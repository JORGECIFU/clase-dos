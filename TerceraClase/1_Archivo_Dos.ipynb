{
 "cells": [
  {
   "cell_type": "code",
   "execution_count": 53,
   "metadata": {},
   "outputs": [
    {
     "name": "stdout",
     "output_type": "stream",
     "text": [
      "['a', 'b', 1, 1.8]\n"
     ]
    }
   ],
   "source": [
    "#Variable entera\n",
    "# variable_int = 12\n",
    "# variabale_dos = \"Texto dos\"\n",
    "# print(variable_int)\n",
    "# print(variabale_dos)\n",
    "# print(\"sección uno\")\n",
    "\n",
    "#lista en python: vectores (cada vector o el contenido del mismo tiene un campo que a su vez tiene una posición)\n",
    "\n",
    "my_string = \"thisStringisAwesome\"\n",
    "\n",
    "s = 10\n",
    "\n",
    "my_string.upper()\n",
    "#Para convertir las letras de mayúsculas a minúsculas se utiliza el comando .lower contrario al comando .upper\n",
    "my_string.lower()\n",
    "#La función .count determina la cantidad de campos que se encuentra dentro de una variable\n",
    "my_string.count(\"th\")\n",
    "#la función bo lean retorna un valor verdadero y otro falso, 1 para el primero y 0 para el segundo\n",
    "#La función .replace permite reemplazar campos de una variable, ejemplo reemplazar la letra i por la x, si se requiere cambiar más letras estas deben estar consecutivas y no separadas \n",
    "my_string.replace(\"i\",\"o\")\n",
    "\n",
    "my_string_dos = \"texto dos\"\n",
    "\n",
    "#la variabale + es concatenar variables Concatenar (+)\n",
    "\n",
    "my_string + my_string_dos\n",
    "\n",
    "# el comando in sirve para comprobar que una letra o campo se encuentra dentro de una variable o un vector\n",
    "\n",
    "\"th\" in my_string \n",
    "\n",
    "#Crear lista [] va dentro de corchetes \n",
    "# lista = [\"a\",\"b\",1,1.8]\n",
    "# print(lista)\n",
    "\n",
    "#Para extraer un valor de la lista se debe realizar lo siguiente\n",
    "# print(type(lista[2]))\n",
    "print(lista[0:4])\n",
    "\n"
   ]
  },
  {
   "cell_type": "markdown",
   "metadata": {},
   "source": [
    "Manejo de variables"
   ]
  },
  {
   "cell_type": "code",
   "execution_count": 10,
   "metadata": {},
   "outputs": [
    {
     "name": "stdout",
     "output_type": "stream",
     "text": [
      "THISSTRINGISAWESOME\n"
     ]
    }
   ],
   "source": [
    "my_string = \"thisStringisAwesome\"\n",
    "\n",
    "print(my_string.upper())"
   ]
  }
 ],
 "metadata": {
  "kernelspec": {
   "display_name": "base",
   "language": "python",
   "name": "python3"
  },
  "language_info": {
   "codemirror_mode": {
    "name": "ipython",
    "version": 3
   },
   "file_extension": ".py",
   "mimetype": "text/x-python",
   "name": "python",
   "nbconvert_exporter": "python",
   "pygments_lexer": "ipython3",
   "version": "3.11.4"
  }
 },
 "nbformat": 4,
 "nbformat_minor": 2
}
